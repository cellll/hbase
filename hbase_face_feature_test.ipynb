{
 "cells": [
  {
   "cell_type": "code",
   "execution_count": 1,
   "metadata": {},
   "outputs": [],
   "source": [
    "import happybase\n",
    "import sys\n",
    "sys.path.append('/root/face/facenet')\n",
    "sys.path.append('/root/face/facenet/src')\n",
    "import facenet\n",
    "import cv2\n",
    "import numpy as np\n",
    "\n",
    "con = happybase.Connection('localhost',port=9090)\n",
    "table = con.table('test')"
   ]
  },
  {
   "cell_type": "code",
   "execution_count": 5,
   "metadata": {},
   "outputs": [],
   "source": [
    "img = cv2.imread('image')"
   ]
  },
  {
   "cell_type": "code",
   "execution_count": 6,
   "metadata": {},
   "outputs": [
    {
     "name": "stdout",
     "output_type": "stream",
     "text": [
      "Loading feature extraction Model....\n",
      "Model filename: /root/face/facenet/models/20170512.pb\n",
      "Model Loaded : 3.70303297043\n",
      "Loaded classifier from file \"/root/face/facenet/pkl/2x10_aug.pkl\"\n"
     ]
    }
   ],
   "source": [
    "face = facenet.FACE()\n",
    "face.getEmb(img)\n",
    "emb = face.emb"
   ]
  },
  {
   "cell_type": "code",
   "execution_count": 11,
   "metadata": {},
   "outputs": [],
   "source": [
    "a = emb.tobytes()"
   ]
  },
  {
   "cell_type": "code",
   "execution_count": 15,
   "metadata": {},
   "outputs": [],
   "source": [
    "table.put(b'test_emb', {b'test_cf:col1': a})"
   ]
  },
  {
   "cell_type": "code",
   "execution_count": 38,
   "metadata": {},
   "outputs": [],
   "source": [
    "res = table.row(b'test_emb', columns=[b'test_cf:col1'])"
   ]
  },
  {
   "cell_type": "code",
   "execution_count": 41,
   "metadata": {},
   "outputs": [],
   "source": [
    "ok = np.expand_dims(np.frombuffer(res['test_cf:col1'], dtype=np.float32), axis=0)"
   ]
  }
 ],
 "metadata": {
  "kernelspec": {
   "display_name": "Python 2",
   "language": "python",
   "name": "python2"
  },
  "language_info": {
   "codemirror_mode": {
    "name": "ipython",
    "version": 2
   },
   "file_extension": ".py",
   "mimetype": "text/x-python",
   "name": "python",
   "nbconvert_exporter": "python",
   "pygments_lexer": "ipython2",
   "version": "2.7.12"
  }
 },
 "nbformat": 4,
 "nbformat_minor": 2
}
