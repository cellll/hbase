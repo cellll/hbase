{
 "cells": [
  {
   "cell_type": "code",
   "execution_count": 3,
   "metadata": {},
   "outputs": [],
   "source": [
    "import happybase\n",
    "import sys\n",
    "sys.path.append('/root/face/facenet')\n",
    "sys.path.append('/root/face/facenet/src')\n",
    "import dnet_face\n",
    "import cv2\n",
    "import numpy as np\n",
    "import os\n",
    "import pickle\n",
    "import tensorflow as tf\n",
    "import random\n",
    "from sklearn.svm import SVC"
   ]
  },
  {
   "cell_type": "code",
   "execution_count": 4,
   "metadata": {},
   "outputs": [],
   "source": [
    "HBASE_HOST = '192.168.1.91'\n",
    "HBASE_PORT = 9090\n",
    "HBASE_TABLE = 'feature'\n",
    "\n",
    "CLASS_NAMES_DICT = {}\n",
    "CLASS_LIST = []\n",
    "\n",
    "CLASSIFIER_NAME_INP = '/root/face/facenet/pkl/add_100.pkl'\n",
    "CLASSIFIER_NAME_EXP = '/root/face/facenet/pkl/test.pkl'\n",
    "\n",
    "INPUT_IMAGE_DIR = '/root/face/image/add20'\n",
    "\n",
    "GPU_MEMORY_FRACTION = 0.2"
   ]
  },
  {
   "cell_type": "code",
   "execution_count": 24,
   "metadata": {},
   "outputs": [],
   "source": [
    "class FeatureDB:\n",
    "    \n",
    "    def __init__(self):\n",
    "        with open(CLASSIFIER_NAME_INP, 'rb') as f:\n",
    "            CLASS_LIST = pickle.load(f)[1]\n",
    "            for i in range(len(CLASS_LIST)):\n",
    "                CLASS_NAMES_DICT[CLASS_LIST[i]] = i\n",
    "        \n",
    "        self.face = dnet_face.FACE()\n",
    "                \n",
    "    def load_image(self):\n",
    "        \n",
    "        image_list = []\n",
    "        \n",
    "        image_dir_list = os.listdir(INPUT_IMAGE_DIR)\n",
    "        \n",
    "        for directory in image_dir_list:\n",
    "            image_dir = os.path.join(INPUT_IMAGE_DIR, directory)\n",
    "            image_file_list = os.listdir(image_dir)\n",
    "            \n",
    "            for image_file in image_file_list:\n",
    "                image_path = os.path.join(image_dir, image_file)\n",
    "                image_list.append(image_path)\n",
    "            \n",
    "        return image_list\n",
    "    \n",
    "    def hbase_connection(self):\n",
    "        try:\n",
    "            conn = happybase.Connection(HBASE_HOST, port=HBASE_PORT)\n",
    "            table = conn.table(HBASE_TABLE)\n",
    "            \n",
    "            return table\n",
    "        \n",
    "        except Exception as e:\n",
    "            print (e)\n",
    "            \n",
    "    def hbase_put(self, table, result, emb):\n",
    "        \n",
    "        face_id = result[0]['id']\n",
    "        face_img = result[0]['img']\n",
    "        face_vec = emb.tobytes()\n",
    "        \n",
    "        try:\n",
    "            table.put(face_id + str(random.randrange(0, 100000)),{\n",
    "                b'feature_cf:vec':face_vec,\n",
    "                b'id_cf:id':face_id\n",
    "            })\n",
    "            \n",
    "        except Exception as e:\n",
    "            print (e)\n",
    "        \n",
    "    def hbase_get(self, table):\n",
    "        \n",
    "        emb_list = []\n",
    "        labels = []\n",
    "        \n",
    "        for rowkey, value in table.scan():\n",
    "            emb = np.frombuffer(value['feature_cf:vec'], dtype=np.float32)\n",
    "            emb = np.expand_dims(emb, axis=0)\n",
    "            emb_list.append(emb)\n",
    "            labels.append(CLASS_NAMES_DICT[value['id_cf:id']])\n",
    "    \n",
    "        emb_array = np.asarray(emb_list)\n",
    "        emb_array = np.squeeze(emb_array, axis=1)\n",
    "        \n",
    "        return emb_array, labels\n",
    "    \n",
    "    def train_classifier(self):\n",
    "        \n",
    "        gpu_options = tf.GPUOptions(per_process_gpu_memory_fraction=GPU_MEMORY_FRACTION)\n",
    "        config = tf.ConfigProto(gpu_options=gpu_options)\n",
    "        \n",
    "        table = self.hbase_connection()\n",
    "        emb_array, labels = self.hbase_get(table)\n",
    "        \n",
    "        print ('{} face feature vectors and {} labels loaded'.format(emb_array.shape[0], len(labels)))\n",
    "        \n",
    "        with tf.Session(config=config) as sess:\n",
    "            model = SVC(kernel='linear', probability=True)\n",
    "            model.fit(emb_array, labels)\n",
    "        \n",
    "        with open(CLASSIFIER_NAME_EXP, 'wb') as outfile:\n",
    "            pickle.dump((model, CLASS_LIST), outfile)\n",
    "            print('Saved classifier model to file \"%s\"' % CLASSIFIER_NAME_EXP)\n",
    "            \n",
    "\n",
    "    def inference_and_put(self):\n",
    "        image_list = self.load_image()\n",
    "        table = self.hbase_connection()\n",
    "        \n",
    "        for image_file in image_list:\n",
    "            img = cv2.imread(image_file)\n",
    "            result, prob = self.face.classification(img)\n",
    "            emb = self.face.emb[0]\n",
    "            \n",
    "            self.hbase_put(table, result, emb)\n",
    "            \n",
    "        print ('Inference complete : {} files'.format(len(image_list)))\n",
    "            \n",
    "        \n"
   ]
  },
  {
   "cell_type": "code",
   "execution_count": 25,
   "metadata": {},
   "outputs": [
    {
     "name": "stdout",
     "output_type": "stream",
     "text": [
      "Loading feature extraction Model....\n",
      "Model filename: /root/face/facenet/models/20170512.pb\n",
      "Model Loaded : 3.77759981155\n",
      "Loaded classifier from file \"/root/face/facenet/pkl/add_100.pkl\"\n"
     ]
    }
   ],
   "source": [
    "fdb = FeatureDB()"
   ]
  },
  {
   "cell_type": "code",
   "execution_count": 16,
   "metadata": {},
   "outputs": [
    {
     "name": "stdout",
     "output_type": "stream",
     "text": [
      "Inference complete : 100 files\n"
     ]
    }
   ],
   "source": [
    "fdb.inference_and_put()"
   ]
  },
  {
   "cell_type": "code",
   "execution_count": 26,
   "metadata": {},
   "outputs": [
    {
     "name": "stdout",
     "output_type": "stream",
     "text": [
      "399 face feature vectors and 399 labels loaded\n",
      "Saved classifier model to file \"/root/face/facenet/pkl/test.pkl\"\n"
     ]
    }
   ],
   "source": [
    "fdb.train_classifier()"
   ]
  },
  {
   "cell_type": "code",
   "execution_count": null,
   "metadata": {},
   "outputs": [],
   "source": []
  },
  {
   "cell_type": "code",
   "execution_count": null,
   "metadata": {},
   "outputs": [],
   "source": []
  }
 ],
 "metadata": {
  "kernelspec": {
   "display_name": "Python 2",
   "language": "python",
   "name": "python2"
  },
  "language_info": {
   "codemirror_mode": {
    "name": "ipython",
    "version": 2
   },
   "file_extension": ".py",
   "mimetype": "text/x-python",
   "name": "python",
   "nbconvert_exporter": "python",
   "pygments_lexer": "ipython2",
   "version": "2.7.12"
  }
 },
 "nbformat": 4,
 "nbformat_minor": 2
}
